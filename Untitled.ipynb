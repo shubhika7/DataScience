{
 "cells": [
  {
   "cell_type": "markdown",
   "id": "fd82cce8-41d9-4e82-84ad-2758a169c9b8",
   "metadata": {},
   "source": [
    "python is widely used.\n"
   ]
  },
  {
   "cell_type": "code",
   "execution_count": 1,
   "id": "67fb107f-d250-42b3-80e4-aae10df1f663",
   "metadata": {},
   "outputs": [
    {
     "name": "stdout",
     "output_type": "stream",
     "text": [
      "Hello DS world\n"
     ]
    }
   ],
   "source": [
    "print(\"Hello DS world\")"
   ]
  },
  {
   "cell_type": "code",
   "execution_count": 3,
   "id": "02a7e81b-729c-4e90-b012-5e6fb427b5a9",
   "metadata": {},
   "outputs": [
    {
     "name": "stdout",
     "output_type": "stream",
     "text": [
      "Shubhika Kumar\n"
     ]
    }
   ],
   "source": [
    "print(\"Shubhika Kumar\")"
   ]
  },
  {
   "cell_type": "code",
   "execution_count": 6,
   "id": "4186eaea-59a1-40f3-9083-1b5bdee0c3ac",
   "metadata": {},
   "outputs": [
    {
     "data": {
      "text/plain": [
       "50"
      ]
     },
     "execution_count": 6,
     "metadata": {},
     "output_type": "execute_result"
    }
   ],
   "source": [
    "24+26"
   ]
  },
  {
   "cell_type": "code",
   "execution_count": 8,
   "id": "666699a1-03af-4334-87e1-b6f81e195ab2",
   "metadata": {},
   "outputs": [
    {
     "data": {
      "text/plain": [
       "6.0"
      ]
     },
     "execution_count": 8,
     "metadata": {},
     "output_type": "execute_result"
    }
   ],
   "source": [
    "24/4"
   ]
  },
  {
   "cell_type": "code",
   "execution_count": 10,
   "id": "3f06abcb-08fa-4967-8cf4-53881fc0eae0",
   "metadata": {},
   "outputs": [
    {
     "data": {
      "text/plain": [
       "36"
      ]
     },
     "execution_count": 10,
     "metadata": {},
     "output_type": "execute_result"
    }
   ],
   "source": [
    "6*6"
   ]
  },
  {
   "cell_type": "code",
   "execution_count": null,
   "id": "0519b998-45bc-4010-9bc7-31f83d42958c",
   "metadata": {},
   "outputs": [],
   "source": []
  }
 ],
 "metadata": {
  "kernelspec": {
   "display_name": "Python 3 (ipykernel)",
   "language": "python",
   "name": "python3"
  },
  "language_info": {
   "codemirror_mode": {
    "name": "ipython",
    "version": 3
   },
   "file_extension": ".py",
   "mimetype": "text/x-python",
   "name": "python",
   "nbconvert_exporter": "python",
   "pygments_lexer": "ipython3",
   "version": "3.12.4"
  }
 },
 "nbformat": 4,
 "nbformat_minor": 5
}
